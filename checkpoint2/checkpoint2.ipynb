{
 "cells": [
  {
   "cell_type": "markdown",
   "metadata": {},
   "source": [
    "<h1> Checkpoint:</h1>\n",
    "\n",
    "**Looking to see completetion and effort in completing the checkpoint. It's okay if it's not correct**\n",
    "\n",
    "Based off this dataset with school financial, enrollment, and achievement data, we are interested in what information is a useful indicator of student performance at the state level.\n",
    "\n",
    "This question is a bit too big for a checkpoint, however. Instead, we want you to look at smaller questions related to our overall goal. Here's the overview:\n",
    "\n",
    "1. Choose a specific test to focus on\n",
    ">Math/Reading for 4/8 grade\n",
    "* Pick or create features to use\n",
    ">Will all the features be useful in predicting test score? Are some more important than others? Should you standardize, bin, or scale the data?\n",
    "* Explore the data as it relates to that test\n",
    ">Create 2 well-labeled visualizations (graphs), each with a caption describing the graph and what it tells us about the data\n",
    "* Create training and testing data\n",
    ">Do you want to train on all the data? Only data from the last 10 years? Only Michigan data?\n",
    "* Train a ML model to predict outcome \n",
    ">Pick if you want to do a regression or classification task. For both cases, defined _exactly_ what you want to predict, and pick any model in sklearn to use (see sklearn <a href=\"https://scikit-learn.org/stable/modules/linear_model.html\">regressors</a> and <a href=\"https://scikit-learn.org/stable/auto_examples/classification/plot_classifier_comparison.html\">classifiers</a>).\n",
    "* Summarize your findings\n",
    ">Write a 1 paragraph summary of what you did and make a recommendation about if and how student performance can be predicted\n",
    "\n",
    "** Include comments throughout your code! Every cleanup and preprocessing task should be documented.\n",
    "\n",
    "\n",
    "Of course, if you're finding this assignment interesting (and we really hope you do!), you are welcome to do more than the requirements! For example, you may want to see if expenditure affects 4th graders more than 8th graders. Maybe you want to look into the extended version of this dataset and see how factors like sex and race are involved. You can include all your work in this notebook when you turn it in -- just always make sure you explain what you did and interpret your results. Good luck!"
   ]
  },
  {
   "cell_type": "markdown",
   "metadata": {},
   "source": [
    "<h2> Data Cleanup </h2>\n",
    "\n",
    "Import numpy, pandas, matplotlib, and seaborn\n",
    "\n",
    "(Feel free to import other libraries!)"
   ]
  },
  {
   "cell_type": "code",
   "execution_count": 1,
   "metadata": {},
   "outputs": [],
   "source": [
    "import numpy as np\n",
    "import pandas as pd\n",
    "import matplotlib.pyplot as plt\n",
    "import seaborn as sns"
   ]
  },
  {
   "cell_type": "markdown",
   "metadata": {},
   "source": [
    "Load in the \"states_edu.csv\" dataset and take a look at the head of the data"
   ]
  },
  {
   "cell_type": "code",
   "execution_count": 2,
   "metadata": {},
   "outputs": [
    {
     "data": {
      "text/html": [
       "<div>\n",
       "<style scoped>\n",
       "    .dataframe tbody tr th:only-of-type {\n",
       "        vertical-align: middle;\n",
       "    }\n",
       "\n",
       "    .dataframe tbody tr th {\n",
       "        vertical-align: top;\n",
       "    }\n",
       "\n",
       "    .dataframe thead th {\n",
       "        text-align: right;\n",
       "    }\n",
       "</style>\n",
       "<table border=\"1\" class=\"dataframe\">\n",
       "  <thead>\n",
       "    <tr style=\"text-align: right;\">\n",
       "      <th></th>\n",
       "      <th>PRIMARY_KEY</th>\n",
       "      <th>STATE</th>\n",
       "      <th>YEAR</th>\n",
       "      <th>ENROLL</th>\n",
       "      <th>TOTAL_REVENUE</th>\n",
       "      <th>FEDERAL_REVENUE</th>\n",
       "      <th>STATE_REVENUE</th>\n",
       "      <th>LOCAL_REVENUE</th>\n",
       "      <th>TOTAL_EXPENDITURE</th>\n",
       "      <th>INSTRUCTION_EXPENDITURE</th>\n",
       "      <th>...</th>\n",
       "      <th>GRADES_4_G</th>\n",
       "      <th>GRADES_8_G</th>\n",
       "      <th>GRADES_12_G</th>\n",
       "      <th>GRADES_1_8_G</th>\n",
       "      <th>GRADES_9_12_G</th>\n",
       "      <th>GRADES_ALL_G</th>\n",
       "      <th>AVG_MATH_4_SCORE</th>\n",
       "      <th>AVG_MATH_8_SCORE</th>\n",
       "      <th>AVG_READING_4_SCORE</th>\n",
       "      <th>AVG_READING_8_SCORE</th>\n",
       "    </tr>\n",
       "  </thead>\n",
       "  <tbody>\n",
       "    <tr>\n",
       "      <th>0</th>\n",
       "      <td>1992_ALABAMA</td>\n",
       "      <td>ALABAMA</td>\n",
       "      <td>1992</td>\n",
       "      <td>NaN</td>\n",
       "      <td>2678885.0</td>\n",
       "      <td>304177.0</td>\n",
       "      <td>1659028.0</td>\n",
       "      <td>715680.0</td>\n",
       "      <td>2653798.0</td>\n",
       "      <td>1481703.0</td>\n",
       "      <td>...</td>\n",
       "      <td>57948.0</td>\n",
       "      <td>58025.0</td>\n",
       "      <td>41167.0</td>\n",
       "      <td>NaN</td>\n",
       "      <td>NaN</td>\n",
       "      <td>731634.0</td>\n",
       "      <td>208.0</td>\n",
       "      <td>252.0</td>\n",
       "      <td>207.0</td>\n",
       "      <td>NaN</td>\n",
       "    </tr>\n",
       "    <tr>\n",
       "      <th>1</th>\n",
       "      <td>1992_ALASKA</td>\n",
       "      <td>ALASKA</td>\n",
       "      <td>1992</td>\n",
       "      <td>NaN</td>\n",
       "      <td>1049591.0</td>\n",
       "      <td>106780.0</td>\n",
       "      <td>720711.0</td>\n",
       "      <td>222100.0</td>\n",
       "      <td>972488.0</td>\n",
       "      <td>498362.0</td>\n",
       "      <td>...</td>\n",
       "      <td>9748.0</td>\n",
       "      <td>8789.0</td>\n",
       "      <td>6714.0</td>\n",
       "      <td>NaN</td>\n",
       "      <td>NaN</td>\n",
       "      <td>122487.0</td>\n",
       "      <td>NaN</td>\n",
       "      <td>NaN</td>\n",
       "      <td>NaN</td>\n",
       "      <td>NaN</td>\n",
       "    </tr>\n",
       "    <tr>\n",
       "      <th>2</th>\n",
       "      <td>1992_ARIZONA</td>\n",
       "      <td>ARIZONA</td>\n",
       "      <td>1992</td>\n",
       "      <td>NaN</td>\n",
       "      <td>3258079.0</td>\n",
       "      <td>297888.0</td>\n",
       "      <td>1369815.0</td>\n",
       "      <td>1590376.0</td>\n",
       "      <td>3401580.0</td>\n",
       "      <td>1435908.0</td>\n",
       "      <td>...</td>\n",
       "      <td>55433.0</td>\n",
       "      <td>49081.0</td>\n",
       "      <td>37410.0</td>\n",
       "      <td>NaN</td>\n",
       "      <td>NaN</td>\n",
       "      <td>673477.0</td>\n",
       "      <td>215.0</td>\n",
       "      <td>265.0</td>\n",
       "      <td>209.0</td>\n",
       "      <td>NaN</td>\n",
       "    </tr>\n",
       "    <tr>\n",
       "      <th>3</th>\n",
       "      <td>1992_ARKANSAS</td>\n",
       "      <td>ARKANSAS</td>\n",
       "      <td>1992</td>\n",
       "      <td>NaN</td>\n",
       "      <td>1711959.0</td>\n",
       "      <td>178571.0</td>\n",
       "      <td>958785.0</td>\n",
       "      <td>574603.0</td>\n",
       "      <td>1743022.0</td>\n",
       "      <td>964323.0</td>\n",
       "      <td>...</td>\n",
       "      <td>34632.0</td>\n",
       "      <td>36011.0</td>\n",
       "      <td>27651.0</td>\n",
       "      <td>NaN</td>\n",
       "      <td>NaN</td>\n",
       "      <td>441490.0</td>\n",
       "      <td>210.0</td>\n",
       "      <td>256.0</td>\n",
       "      <td>211.0</td>\n",
       "      <td>NaN</td>\n",
       "    </tr>\n",
       "    <tr>\n",
       "      <th>4</th>\n",
       "      <td>1992_CALIFORNIA</td>\n",
       "      <td>CALIFORNIA</td>\n",
       "      <td>1992</td>\n",
       "      <td>NaN</td>\n",
       "      <td>26260025.0</td>\n",
       "      <td>2072470.0</td>\n",
       "      <td>16546514.0</td>\n",
       "      <td>7641041.0</td>\n",
       "      <td>27138832.0</td>\n",
       "      <td>14358922.0</td>\n",
       "      <td>...</td>\n",
       "      <td>418418.0</td>\n",
       "      <td>363296.0</td>\n",
       "      <td>270675.0</td>\n",
       "      <td>NaN</td>\n",
       "      <td>NaN</td>\n",
       "      <td>5254844.0</td>\n",
       "      <td>208.0</td>\n",
       "      <td>261.0</td>\n",
       "      <td>202.0</td>\n",
       "      <td>NaN</td>\n",
       "    </tr>\n",
       "  </tbody>\n",
       "</table>\n",
       "<p>5 rows × 25 columns</p>\n",
       "</div>"
      ],
      "text/plain": [
       "       PRIMARY_KEY       STATE  YEAR  ENROLL  TOTAL_REVENUE  FEDERAL_REVENUE  \\\n",
       "0     1992_ALABAMA     ALABAMA  1992     NaN      2678885.0         304177.0   \n",
       "1      1992_ALASKA      ALASKA  1992     NaN      1049591.0         106780.0   \n",
       "2     1992_ARIZONA     ARIZONA  1992     NaN      3258079.0         297888.0   \n",
       "3    1992_ARKANSAS    ARKANSAS  1992     NaN      1711959.0         178571.0   \n",
       "4  1992_CALIFORNIA  CALIFORNIA  1992     NaN     26260025.0        2072470.0   \n",
       "\n",
       "   STATE_REVENUE  LOCAL_REVENUE  TOTAL_EXPENDITURE  INSTRUCTION_EXPENDITURE  \\\n",
       "0      1659028.0       715680.0          2653798.0                1481703.0   \n",
       "1       720711.0       222100.0           972488.0                 498362.0   \n",
       "2      1369815.0      1590376.0          3401580.0                1435908.0   \n",
       "3       958785.0       574603.0          1743022.0                 964323.0   \n",
       "4     16546514.0      7641041.0         27138832.0               14358922.0   \n",
       "\n",
       "   ...  GRADES_4_G  GRADES_8_G  GRADES_12_G  GRADES_1_8_G  GRADES_9_12_G  \\\n",
       "0  ...     57948.0     58025.0      41167.0           NaN            NaN   \n",
       "1  ...      9748.0      8789.0       6714.0           NaN            NaN   \n",
       "2  ...     55433.0     49081.0      37410.0           NaN            NaN   \n",
       "3  ...     34632.0     36011.0      27651.0           NaN            NaN   \n",
       "4  ...    418418.0    363296.0     270675.0           NaN            NaN   \n",
       "\n",
       "   GRADES_ALL_G  AVG_MATH_4_SCORE  AVG_MATH_8_SCORE  AVG_READING_4_SCORE  \\\n",
       "0      731634.0             208.0             252.0                207.0   \n",
       "1      122487.0               NaN               NaN                  NaN   \n",
       "2      673477.0             215.0             265.0                209.0   \n",
       "3      441490.0             210.0             256.0                211.0   \n",
       "4     5254844.0             208.0             261.0                202.0   \n",
       "\n",
       "   AVG_READING_8_SCORE  \n",
       "0                  NaN  \n",
       "1                  NaN  \n",
       "2                  NaN  \n",
       "3                  NaN  \n",
       "4                  NaN  \n",
       "\n",
       "[5 rows x 25 columns]"
      ]
     },
     "execution_count": 2,
     "metadata": {},
     "output_type": "execute_result"
    }
   ],
   "source": [
    "df = pd.read_csv('../data/states_edu.csv')\n",
    "df.head()"
   ]
  },
  {
   "cell_type": "markdown",
   "metadata": {},
   "source": [
    "You should always familiarize yourself with what each column in the dataframe represents. \\ Read about the states_edu dataset here: https://www.kaggle.com/noriuk/us-education-datasets-unification-project"
   ]
  },
  {
   "cell_type": "markdown",
   "metadata": {},
   "source": [
    "Use this space to rename columns, deal with missing data, etc. _(optional)_"
   ]
  },
  {
   "cell_type": "code",
   "execution_count": null,
   "metadata": {},
   "outputs": [],
   "source": []
  },
  {
   "cell_type": "markdown",
   "metadata": {},
   "source": [
    "<h2>Exploratory Data Analysis (EDA) </h2>"
   ]
  },
  {
   "cell_type": "markdown",
   "metadata": {},
   "source": [
    "Chosen Outcome Variable for Test: Math for 8th grade\n",
    "\n",
    "**(hit `Enter` to edit)**\n",
    "\n",
    "Outcome Score in the questions refers to the outcome variable you chose here."
   ]
  },
  {
   "cell_type": "markdown",
   "metadata": {},
   "source": [
    "How many different years of data are in our dataset? Use a pandas function."
   ]
  },
  {
   "cell_type": "code",
   "execution_count": 3,
   "metadata": {},
   "outputs": [
    {
     "data": {
      "text/plain": [
       "33"
      ]
     },
     "execution_count": 3,
     "metadata": {},
     "output_type": "execute_result"
    }
   ],
   "source": [
    "#len(data['YEAR'].unique()), should I use this one or the other one whats the difference\n",
    "df['YEAR'].unique().shape[0]"
   ]
  },
  {
   "cell_type": "markdown",
   "metadata": {},
   "source": [
    "Let's compare Michigan to Ohio. Which state has the higher average outcome score across all years?"
   ]
  },
  {
   "cell_type": "code",
   "execution_count": 4,
   "metadata": {},
   "outputs": [
    {
     "name": "stdout",
     "output_type": "stream",
     "text": [
      "Ohio Mean is 282.25\n",
      "Michigan mean is 276.1666666666667\n",
      "Ohio is higher, regrettably\n"
     ]
    }
   ],
   "source": [
    "df.dropna(subset=['AVG_MATH_8_SCORE'], inplace=True)\n",
    "OHIO_AV = df[df['STATE'] == 'OHIO']['AVG_MATH_8_SCORE'].mean()\n",
    "MICH_AV = df[df['STATE'] == 'MICHIGAN']['AVG_MATH_8_SCORE'].mean()\n",
    "print(f'Ohio Mean is {OHIO_AV}')\n",
    "print(f'Michigan mean is {MICH_AV}')\n",
    "print('Ohio is higher, regrettably')"
   ]
  },
  {
   "cell_type": "markdown",
   "metadata": {},
   "source": [
    "Find the average for your outcome score across all states in 2019"
   ]
  },
  {
   "cell_type": "code",
   "execution_count": 5,
   "metadata": {},
   "outputs": [
    {
     "data": {
      "text/plain": [
       "281.2641509433962"
      ]
     },
     "execution_count": 5,
     "metadata": {},
     "output_type": "execute_result"
    }
   ],
   "source": [
    "df[df['YEAR'] == 2019]['AVG_MATH_8_SCORE'].mean()"
   ]
  },
  {
   "cell_type": "markdown",
   "metadata": {},
   "source": [
    "Find the maximum outcome score for every state. Hint: there's a function that allows you to do this easily"
   ]
  },
  {
   "cell_type": "code",
   "execution_count": 6,
   "metadata": {},
   "outputs": [
    {
     "data": {
      "text/plain": [
       "STATE\n",
       "ALABAMA                 269.0\n",
       "ALASKA                  283.0\n",
       "ARIZONA                 283.0\n",
       "ARKANSAS                279.0\n",
       "CALIFORNIA              277.0\n",
       "COLORADO                292.0\n",
       "CONNECTICUT             289.0\n",
       "DELAWARE                284.0\n",
       "DISTRICT_OF_COLUMBIA    269.0\n",
       "DODEA                   293.0\n",
       "FLORIDA                 281.0\n",
       "GEORGIA                 281.0\n",
       "HAWAII                  281.0\n",
       "IDAHO                   287.0\n",
       "ILLINOIS                285.0\n",
       "INDIANA                 288.0\n",
       "IOWA                    286.0\n",
       "KANSAS                  290.0\n",
       "KENTUCKY                282.0\n",
       "LOUISIANA               273.0\n",
       "MAINE                   289.0\n",
       "MARYLAND                288.0\n",
       "MASSACHUSETTS           301.0\n",
       "MICHIGAN                280.0\n",
       "MINNESOTA               295.0\n",
       "MISSISSIPPI             274.0\n",
       "MISSOURI                286.0\n",
       "MONTANA                 293.0\n",
       "NATIONAL                285.0\n",
       "NEBRASKA                288.0\n",
       "NEVADA                  278.0\n",
       "NEW_HAMPSHIRE           296.0\n",
       "NEW_JERSEY              296.0\n",
       "NEW_MEXICO              274.0\n",
       "NEW_YORK                283.0\n",
       "NORTH_CAROLINA          286.0\n",
       "NORTH_DAKOTA            293.0\n",
       "OHIO                    290.0\n",
       "OKLAHOMA                279.0\n",
       "OREGON                  285.0\n",
       "PENNSYLVANIA            290.0\n",
       "RHODE_ISLAND            284.0\n",
       "SOUTH_CAROLINA          282.0\n",
       "SOUTH_DAKOTA            291.0\n",
       "TENNESSEE               280.0\n",
       "TEXAS                   290.0\n",
       "UTAH                    287.0\n",
       "VERMONT                 295.0\n",
       "VIRGINIA                290.0\n",
       "WASHINGTON              290.0\n",
       "WEST_VIRGINIA           274.0\n",
       "WISCONSIN               289.0\n",
       "WYOMING                 289.0\n",
       "Name: AVG_MATH_8_SCORE, dtype: float64"
      ]
     },
     "execution_count": 6,
     "metadata": {},
     "output_type": "execute_result"
    }
   ],
   "source": [
    "df.groupby('STATE').max('AVG_MATH_8_SCORE')['AVG_MATH_8_SCORE']"
   ]
  },
  {
   "cell_type": "markdown",
   "metadata": {},
   "source": [
    "<h2> Feature Selection </h2>\n",
    "\n",
    "After exploring the data, you now have to choose features that you would use to predict the performance of the students on a chosen test (chosen outcome variable). By the way, you can also create your own features. For example, perhaps you figured that maybe a state's expenditure per student may affect their overall academic performance so you create a expenditure_per_student feature.\n",
    "\n",
    "Use this space to modify or create features"
   ]
  },
  {
   "cell_type": "code",
   "execution_count": 7,
   "metadata": {},
   "outputs": [
    {
     "name": "stdout",
     "output_type": "stream",
     "text": [
      "Index(['PRIMARY_KEY', 'STATE', 'YEAR', 'ENROLL', 'TOTAL_REVENUE',\n",
      "       'FEDERAL_REVENUE', 'STATE_REVENUE', 'LOCAL_REVENUE',\n",
      "       'TOTAL_EXPENDITURE', 'INSTRUCTION_EXPENDITURE',\n",
      "       'SUPPORT_SERVICES_EXPENDITURE', 'OTHER_EXPENDITURE',\n",
      "       'CAPITAL_OUTLAY_EXPENDITURE', 'GRADES_PK_G', 'GRADES_KG_G',\n",
      "       'GRADES_4_G', 'GRADES_8_G', 'GRADES_12_G', 'GRADES_1_8_G',\n",
      "       'GRADES_9_12_G', 'GRADES_ALL_G', 'AVG_MATH_4_SCORE', 'AVG_MATH_8_SCORE',\n",
      "       'AVG_READING_4_SCORE', 'AVG_READING_8_SCORE'],\n",
      "      dtype='object')\n"
     ]
    },
    {
     "data": {
      "text/plain": [
       "count    397.000000\n",
       "mean      -2.594598\n",
       "std        5.130113\n",
       "min      -45.069266\n",
       "25%       -3.139245\n",
       "50%       -1.352326\n",
       "75%       -0.398791\n",
       "max        9.640412\n",
       "dtype: float64"
      ]
     },
     "execution_count": 7,
     "metadata": {},
     "output_type": "execute_result"
    }
   ],
   "source": [
    "print(df.columns)\n",
    "#Try to fill in missing enrollment data\n",
    "((df.ENROLL - df.GRADES_ALL_G)/ df.GRADES_ALL_G * 100).describe() \n",
    "#lol why is there some state where the enroll is extremely different from grades_all_g"
   ]
  },
  {
   "cell_type": "code",
   "execution_count": 8,
   "metadata": {},
   "outputs": [
    {
     "data": {
      "text/plain": [
       "count    397.000000\n",
       "mean       4.105301\n",
       "std        3.208903\n",
       "min        0.000000\n",
       "25%        2.348848\n",
       "50%        3.462014\n",
       "75%        5.183788\n",
       "max       25.096272\n",
       "dtype: float64"
      ]
     },
     "execution_count": 8,
     "metadata": {},
     "output_type": "execute_result"
    }
   ],
   "source": [
    "#Is there a difference between total expenditure and the sum of expenditure categories?\n",
    "((df.TOTAL_EXPENDITURE - df.INSTRUCTION_EXPENDITURE  - df.SUPPORT_SERVICES_EXPENDITURE - df.CAPITAL_OUTLAY_EXPENDITURE - df.OTHER_EXPENDITURE)/ df.TOTAL_EXPENDITURE * 100).describe() "
   ]
  },
  {
   "cell_type": "code",
   "execution_count": 9,
   "metadata": {},
   "outputs": [
    {
     "data": {
      "text/plain": [
       "STATE\n",
       "ALABAMA                  8.467198\n",
       "ALASKA                  17.136268\n",
       "ARIZONA                  7.866970\n",
       "ARKANSAS                 8.936896\n",
       "CALIFORNIA              10.187042\n",
       "COLORADO                 9.522948\n",
       "CONNECTICUT             14.955648\n",
       "DELAWARE                13.611544\n",
       "DISTRICT_OF_COLUMBIA    20.196294\n",
       "FLORIDA                  9.315343\n",
       "GEORGIA                  9.355067\n",
       "HAWAII                  10.637982\n",
       "IDAHO                    6.795344\n",
       "ILLINOIS                12.256986\n",
       "INDIANA                 10.008738\n",
       "IOWA                    10.685008\n",
       "KANSAS                  10.280909\n",
       "KENTUCKY                 8.784592\n",
       "LOUISIANA                9.519894\n",
       "MAINE                   11.861853\n",
       "MARYLAND                12.430973\n",
       "MASSACHUSETTS           13.887163\n",
       "MICHIGAN                11.382783\n",
       "MINNESOTA               11.730289\n",
       "MISSISSIPPI              7.556562\n",
       "MISSOURI                 9.487659\n",
       "MONTANA                 10.105516\n",
       "NEBRASKA                10.401776\n",
       "NEVADA                   9.260828\n",
       "NEW_HAMPSHIRE           12.849515\n",
       "NEW_JERSEY              17.465368\n",
       "NEW_MEXICO               9.355970\n",
       "NEW_YORK                17.857343\n",
       "NORTH_CAROLINA           8.399510\n",
       "NORTH_DAKOTA            10.968536\n",
       "OHIO                    11.303383\n",
       "OKLAHOMA                 7.696141\n",
       "OREGON                  10.494805\n",
       "PENNSYLVANIA            14.486422\n",
       "RHODE_ISLAND            12.882341\n",
       "SOUTH_CAROLINA           9.695704\n",
       "SOUTH_DAKOTA             9.626368\n",
       "TENNESSEE                7.734716\n",
       "TEXAS                    9.425948\n",
       "UTAH                     6.712464\n",
       "VERMONT                 18.428325\n",
       "VIRGINIA                10.485330\n",
       "WASHINGTON              10.825369\n",
       "WEST_VIRGINIA           10.085378\n",
       "WISCONSIN               11.343677\n",
       "WYOMING                 14.527660\n",
       "Name: STUDENT_COST, dtype: float64"
      ]
     },
     "execution_count": 9,
     "metadata": {},
     "output_type": "execute_result"
    }
   ],
   "source": [
    "df['ENROLL'] = df['ENROLL'].fillna(df.GRADES_ALL_G)\n",
    "df['TOTAL_EXPENDITURE'] = df['TOTAL_EXPENDITURE'].fillna(df.INSTRUCTION_EXPENDITURE + df.SUPPORT_SERVICES_EXPENDITURE + df.CAPITAL_OUTLAY_EXPENDITURE + df.OTHER_EXPENDITURE)\n",
    "#EXPENDITURE / ENROLLMENT\n",
    "df['STUDENT_COST'] = df['TOTAL_EXPENDITURE'] / df['ENROLL']\n",
    "df[~np.isnan(df['STUDENT_COST'])].groupby('STATE').mean('STUDENT_COST')['STUDENT_COST']\n",
    "#it looks like the data has expenditure listed by thousands\n",
    "#also for some reason there are weird non state names like 'NATIONAL' and 'DODEA' in the data set"
   ]
  },
  {
   "cell_type": "markdown",
   "metadata": {},
   "source": [
    "Final feature list: AVG_MATH_4_SCORE, AVG_READING_8_SCORE, TOTAL_EXPENDITURE/ENROLL (STUDENT_COST), YEAR"
   ]
  },
  {
   "cell_type": "markdown",
   "metadata": {},
   "source": [
    "Feature selection justification: AVG_MATH_4_SCORE: Performance in math in general is expected be a powerful indicator of performance in 8th-grade math.  \n",
    "AVG_READING_8_SCORE: Academic performance in other disciplines could be correlated with general academic performance possibly due to environmental and instutional factors at a given school in a given year.  \n",
    "TOTAL_EXPENDITURE/ENROLL (STUDENT_COST): The amount of money spent per student might correlate with quality or quantity of learning and other services offered to students  \n",
    "YEAR: It is possible that events which happen in a certain year can affect educational outcomes. Perhaps educational trends are trending upward or downward over time. Certainly, events localized to a specific year can affect educational outcomes, like a pandemic, but the linear regression model might not capture this.\n"
   ]
  },
  {
   "cell_type": "markdown",
   "metadata": {},
   "source": [
    "<h2>Visualization</h2>\n",
    "\n",
    "Use any graph you wish to see the relationship of your chosen outcome variable with any features you chose\n",
    "\n",
    "**Visualization 1**"
   ]
  },
  {
   "cell_type": "code",
   "execution_count": 10,
   "metadata": {},
   "outputs": [
    {
     "data": {
      "text/plain": [
       "<AxesSubplot:xlabel='AVG_MATH_4_SCORE', ylabel='AVG_MATH_8_SCORE'>"
      ]
     },
     "execution_count": 10,
     "metadata": {},
     "output_type": "execute_result"
    },
    {
     "data": {
      "image/png": "[encoded data removed]",
      "text/plain": [
       "<Figure size 432x288 with 1 Axes>"
      ]
     },
     "metadata": {
      "needs_background": "light"
     },
     "output_type": "display_data"
    }
   ],
   "source": [
    "df.plot.scatter(x='AVG_MATH_4_SCORE', y='AVG_MATH_8_SCORE')"
   ]
  },
  {
   "cell_type": "markdown",
   "metadata": {},
   "source": [
    "Plot of average math score of 8th graders against average math score of 4th graders. It appears that states which did well in 4th grade also tended to do will in 8th grade with very strong correlation."
   ]
  },
  {
   "cell_type": "markdown",
   "metadata": {},
   "source": [
    "**Visualization 2**"
   ]
  },
  {
   "cell_type": "code",
   "execution_count": 11,
   "metadata": {},
   "outputs": [
    {
     "data": {
      "text/plain": [
       "<AxesSubplot:xlabel='STUDENT_COST', ylabel='AVG_MATH_8_SCORE'>"
      ]
     },
     "execution_count": 11,
     "metadata": {},
     "output_type": "execute_result"
    },
    {
     "data": {
      "image/png": "[encoded data removed]",
      "text/plain": [
       "<Figure size 432x288 with 1 Axes>"
      ]
     },
     "metadata": {
      "needs_background": "light"
     },
     "output_type": "display_data"
    }
   ],
   "source": [
    "df.plot.scatter(x='STUDENT_COST', y='AVG_MATH_8_SCORE')"
   ]
  },
  {
   "cell_type": "markdown",
   "metadata": {},
   "source": [
    "Plot of average math score of 8th graders against expenditure per student. It seems that spending more on students does tend to yield better math scores in 8th grade, but this is not as absolute as the 4th grade math correlation. It seems that additional cost sometimes is related to factors which don't contribute to better outcomes."
   ]
  },
  {
   "cell_type": "markdown",
   "metadata": {},
   "source": [
    "<h2> Data Creation </h2>\n",
    "\n",
    "_Use this space to create train/test data_"
   ]
  },
  {
   "cell_type": "code",
   "execution_count": 12,
   "metadata": {},
   "outputs": [],
   "source": [
    "from sklearn.model_selection import train_test_split"
   ]
  },
  {
   "cell_type": "code",
   "execution_count": 13,
   "metadata": {},
   "outputs": [],
   "source": [
    "X = df[['AVG_MATH_4_SCORE', 'AVG_READING_8_SCORE', 'STUDENT_COST', 'YEAR']].dropna()\n",
    "y = df.loc[X.index]['AVG_MATH_8_SCORE']"
   ]
  },
  {
   "cell_type": "code",
   "execution_count": 14,
   "metadata": {},
   "outputs": [],
   "source": [
    "X_train, X_test, y_train, y_test = train_test_split(\n",
    "     X, y, test_size=.3, random_state=0)"
   ]
  },
  {
   "cell_type": "markdown",
   "metadata": {},
   "source": [
    "<h2> Prediction </h2>"
   ]
  },
  {
   "cell_type": "markdown",
   "metadata": {},
   "source": [
    "ML Models Resource: https://medium.com/@vijaya.beeravalli/comparison-of-machine-learning-classification-models-for-credit-card-default-data-c3cf805c9a5a"
   ]
  },
  {
   "cell_type": "markdown",
   "metadata": {},
   "source": [
    "Chosen ML task: REGRESSION"
   ]
  },
  {
   "cell_type": "code",
   "execution_count": 15,
   "metadata": {},
   "outputs": [],
   "source": [
    "# import your sklearn class here\n",
    "from sklearn.linear_model import LinearRegression"
   ]
  },
  {
   "cell_type": "code",
   "execution_count": 16,
   "metadata": {},
   "outputs": [],
   "source": [
    "# create your model here\n",
    "model = LinearRegression()"
   ]
  },
  {
   "cell_type": "code",
   "execution_count": 17,
   "metadata": {},
   "outputs": [
    {
     "data": {
      "text/plain": [
       "LinearRegression()"
      ]
     },
     "execution_count": 17,
     "metadata": {},
     "output_type": "execute_result"
    }
   ],
   "source": [
    "model.fit(X_train, y_train)"
   ]
  },
  {
   "cell_type": "code",
   "execution_count": 18,
   "metadata": {},
   "outputs": [
    {
     "name": "stdout",
     "output_type": "stream",
     "text": [
      "44.80281448242957\n",
      "[ 0.75226051  0.53225593  0.02814671 -0.04193855]\n"
     ]
    }
   ],
   "source": [
    "print(model.intercept_)\n",
    "print(model.coef_)\n",
    "y_pred = model.predict(X_test)"
   ]
  },
  {
   "cell_type": "code",
   "execution_count": 19,
   "metadata": {},
   "outputs": [
    {
     "name": "stderr",
     "output_type": "stream",
     "text": [
      "/usr/local/lib/python3.8/dist-packages/sklearn/base.py:450: UserWarning: X does not have valid feature names, but LinearRegression was fitted with feature names\n",
      "  warnings.warn(\n"
     ]
    },
    {
     "data": {
      "text/plain": [
       "Text(0, 0.5, 'Average 8th Grade Math Score')"
      ]
     },
     "execution_count": 19,
     "metadata": {},
     "output_type": "execute_result"
    },
    {
     "data": {
      "image/png": "[encoded data removed]",
      "text/plain": [
       "<Figure size 864x432 with 1 Axes>"
      ]
     },
     "metadata": {
      "needs_background": "light"
     },
     "output_type": "display_data"
    }
   ],
   "source": [
    "# FOR REGRESSION ONLY: (pick a single column to visualize results)\n",
    "\n",
    "# Results from this graph _should not_ be used as a part of your results -- it is just here to help with intuition. \n",
    "# Instead, look at the error values and individual intercepts.\n",
    "\n",
    "\n",
    "col_name = 'AVG_MATH_4_SCORE'\n",
    "col_index = X_train.columns.get_loc(col_name)\n",
    "\n",
    "f = plt.figure(figsize=(12,6))\n",
    "plt.scatter(X_train[col_name], y_train, color = \"red\")\n",
    "plt.scatter(X_train[col_name], model.predict(X_train), color = \"green\")\n",
    "plt.scatter(X_test[col_name], model.predict(X_test), color = \"blue\")\n",
    "\n",
    "new_x = np.linspace(X_train[col_name].min(),X_train[col_name].max(),200)\n",
    "intercept = model.predict([X_train.sort_values(col_name).iloc[0]]) - X_train[col_name].min()*model.coef_[col_index]\n",
    "plt.plot(new_x, intercept+new_x*model.coef_[col_index])\n",
    "\n",
    "plt.legend(['controlled model','true training','predicted training','predicted testing'])\n",
    "plt.xlabel('Average 4th Grade Math Score')\n",
    "plt.ylabel('Average 8th Grade Math Score')"
   ]
  },
  {
   "cell_type": "markdown",
   "metadata": {},
   "source": [
    "<h2> Summary </h2>"
   ]
  },
  {
   "cell_type": "code",
   "execution_count": 20,
   "metadata": {},
   "outputs": [
    {
     "data": {
      "text/plain": [
       "0.8830420714690038"
      ]
     },
     "execution_count": 20,
     "metadata": {},
     "output_type": "execute_result"
    }
   ],
   "source": [
    "model.score(X_test, y_test)"
   ]
  },
  {
   "cell_type": "markdown",
   "metadata": {},
   "source": [
    "The model apparently explains the variance in the data relatively well. Looking at each feature of the model data, it seems that the 4th grade math score average and 8th grade reading score average both correlate with 8th grade math scores very well. The other two features considered, year and expenditure per student, do not correlate very much. That year does not correlate much with 8th grade math performance is not too surprising; it simply means we fail to find general trends over time with respect to this measure. That expenditure per student does not correlate, however, is a little more suprising. From the graph of 8th grade math performance against this measure, it seems that most points do show some correlation, however there is a small set out outliers to the trend. I suspect that there are a few states where costs are high due to some other factor. For example, perhaps busing in Alaska, with its weather, is significantly more expensive than in warmer states. This is a question which might prompt further research. I could do something quick and dirty right now though."
   ]
  },
  {
   "cell_type": "code",
   "execution_count": 21,
   "metadata": {},
   "outputs": [
    {
     "data": {
      "text/html": [
       "<div>\n",
       "<style scoped>\n",
       "    .dataframe tbody tr th:only-of-type {\n",
       "        vertical-align: middle;\n",
       "    }\n",
       "\n",
       "    .dataframe tbody tr th {\n",
       "        vertical-align: top;\n",
       "    }\n",
       "\n",
       "    .dataframe thead th {\n",
       "        text-align: right;\n",
       "    }\n",
       "</style>\n",
       "<table border=\"1\" class=\"dataframe\">\n",
       "  <thead>\n",
       "    <tr style=\"text-align: right;\">\n",
       "      <th></th>\n",
       "      <th>PRIMARY_KEY</th>\n",
       "      <th>STATE</th>\n",
       "      <th>YEAR</th>\n",
       "      <th>ENROLL</th>\n",
       "      <th>TOTAL_REVENUE</th>\n",
       "      <th>FEDERAL_REVENUE</th>\n",
       "      <th>STATE_REVENUE</th>\n",
       "      <th>LOCAL_REVENUE</th>\n",
       "      <th>TOTAL_EXPENDITURE</th>\n",
       "      <th>INSTRUCTION_EXPENDITURE</th>\n",
       "      <th>...</th>\n",
       "      <th>GRADES_8_G</th>\n",
       "      <th>GRADES_12_G</th>\n",
       "      <th>GRADES_1_8_G</th>\n",
       "      <th>GRADES_9_12_G</th>\n",
       "      <th>GRADES_ALL_G</th>\n",
       "      <th>AVG_MATH_4_SCORE</th>\n",
       "      <th>AVG_MATH_8_SCORE</th>\n",
       "      <th>AVG_READING_4_SCORE</th>\n",
       "      <th>AVG_READING_8_SCORE</th>\n",
       "      <th>STUDENT_COST</th>\n",
       "    </tr>\n",
       "  </thead>\n",
       "  <tbody>\n",
       "    <tr>\n",
       "      <th>569</th>\n",
       "      <td>2003_DISTRICT_OF_COLUMBIA</td>\n",
       "      <td>DISTRICT_OF_COLUMBIA</td>\n",
       "      <td>2003</td>\n",
       "      <td>67522.0</td>\n",
       "      <td>1114061.0</td>\n",
       "      <td>152599.0</td>\n",
       "      <td>0.0</td>\n",
       "      <td>961462.0</td>\n",
       "      <td>1105963.0</td>\n",
       "      <td>473414.0</td>\n",
       "      <td>...</td>\n",
       "      <td>5158.0</td>\n",
       "      <td>2971.0</td>\n",
       "      <td>45706.0</td>\n",
       "      <td>16828.0</td>\n",
       "      <td>78057.0</td>\n",
       "      <td>205.0</td>\n",
       "      <td>243.0</td>\n",
       "      <td>188.0</td>\n",
       "      <td>239.0</td>\n",
       "      <td>16.379299</td>\n",
       "    </tr>\n",
       "    <tr>\n",
       "      <th>671</th>\n",
       "      <td>2005_DISTRICT_OF_COLUMBIA</td>\n",
       "      <td>DISTRICT_OF_COLUMBIA</td>\n",
       "      <td>2005</td>\n",
       "      <td>62306.0</td>\n",
       "      <td>1109605.0</td>\n",
       "      <td>167922.0</td>\n",
       "      <td>0.0</td>\n",
       "      <td>941683.0</td>\n",
       "      <td>1085658.0</td>\n",
       "      <td>459063.0</td>\n",
       "      <td>...</td>\n",
       "      <td>5196.0</td>\n",
       "      <td>3177.0</td>\n",
       "      <td>41142.0</td>\n",
       "      <td>18769.0</td>\n",
       "      <td>76876.0</td>\n",
       "      <td>211.0</td>\n",
       "      <td>245.0</td>\n",
       "      <td>191.0</td>\n",
       "      <td>238.0</td>\n",
       "      <td>17.424614</td>\n",
       "    </tr>\n",
       "    <tr>\n",
       "      <th>773</th>\n",
       "      <td>2007_DISTRICT_OF_COLUMBIA</td>\n",
       "      <td>DISTRICT_OF_COLUMBIA</td>\n",
       "      <td>2007</td>\n",
       "      <td>56943.0</td>\n",
       "      <td>1148358.0</td>\n",
       "      <td>134700.0</td>\n",
       "      <td>0.0</td>\n",
       "      <td>1013658.0</td>\n",
       "      <td>1140506.0</td>\n",
       "      <td>491992.0</td>\n",
       "      <td>...</td>\n",
       "      <td>5182.0</td>\n",
       "      <td>4002.0</td>\n",
       "      <td>40295.0</td>\n",
       "      <td>20242.0</td>\n",
       "      <td>78422.0</td>\n",
       "      <td>214.0</td>\n",
       "      <td>248.0</td>\n",
       "      <td>197.0</td>\n",
       "      <td>241.0</td>\n",
       "      <td>20.028906</td>\n",
       "    </tr>\n",
       "    <tr>\n",
       "      <th>810</th>\n",
       "      <td>2007_VERMONT</td>\n",
       "      <td>VERMONT</td>\n",
       "      <td>2007</td>\n",
       "      <td>89329.0</td>\n",
       "      <td>1836316.0</td>\n",
       "      <td>97086.0</td>\n",
       "      <td>1237083.0</td>\n",
       "      <td>502147.0</td>\n",
       "      <td>1804519.0</td>\n",
       "      <td>800453.0</td>\n",
       "      <td>...</td>\n",
       "      <td>7039.0</td>\n",
       "      <td>7714.0</td>\n",
       "      <td>52379.0</td>\n",
       "      <td>30942.0</td>\n",
       "      <td>94038.0</td>\n",
       "      <td>246.0</td>\n",
       "      <td>291.0</td>\n",
       "      <td>228.0</td>\n",
       "      <td>273.0</td>\n",
       "      <td>20.200819</td>\n",
       "    </tr>\n",
       "    <tr>\n",
       "      <th>875</th>\n",
       "      <td>2009_DISTRICT_OF_COLUMBIA</td>\n",
       "      <td>DISTRICT_OF_COLUMBIA</td>\n",
       "      <td>2009</td>\n",
       "      <td>44331.0</td>\n",
       "      <td>801008.0</td>\n",
       "      <td>75856.0</td>\n",
       "      <td>0.0</td>\n",
       "      <td>725152.0</td>\n",
       "      <td>805362.0</td>\n",
       "      <td>330698.0</td>\n",
       "      <td>...</td>\n",
       "      <td>4452.0</td>\n",
       "      <td>3301.0</td>\n",
       "      <td>37698.0</td>\n",
       "      <td>17597.0</td>\n",
       "      <td>69433.0</td>\n",
       "      <td>219.0</td>\n",
       "      <td>254.0</td>\n",
       "      <td>202.0</td>\n",
       "      <td>242.0</td>\n",
       "      <td>18.167016</td>\n",
       "    </tr>\n",
       "    <tr>\n",
       "      <th>899</th>\n",
       "      <td>2009_NEW_YORK</td>\n",
       "      <td>NEW_YORK</td>\n",
       "      <td>2009</td>\n",
       "      <td>2696688.0</td>\n",
       "      <td>55885116.0</td>\n",
       "      <td>3197833.0</td>\n",
       "      <td>25768345.0</td>\n",
       "      <td>26918938.0</td>\n",
       "      <td>57851481.0</td>\n",
       "      <td>35195372.0</td>\n",
       "      <td>...</td>\n",
       "      <td>198690.0</td>\n",
       "      <td>188377.0</td>\n",
       "      <td>1550122.0</td>\n",
       "      <td>858087.0</td>\n",
       "      <td>2766052.0</td>\n",
       "      <td>241.0</td>\n",
       "      <td>283.0</td>\n",
       "      <td>224.0</td>\n",
       "      <td>264.0</td>\n",
       "      <td>21.452790</td>\n",
       "    </tr>\n",
       "    <tr>\n",
       "      <th>977</th>\n",
       "      <td>2011_DISTRICT_OF_COLUMBIA</td>\n",
       "      <td>DISTRICT_OF_COLUMBIA</td>\n",
       "      <td>2011</td>\n",
       "      <td>44199.0</td>\n",
       "      <td>1283071.0</td>\n",
       "      <td>155505.0</td>\n",
       "      <td>0.0</td>\n",
       "      <td>1127566.0</td>\n",
       "      <td>1297175.0</td>\n",
       "      <td>525185.0</td>\n",
       "      <td>...</td>\n",
       "      <td>4328.0</td>\n",
       "      <td>3190.0</td>\n",
       "      <td>38259.0</td>\n",
       "      <td>17261.0</td>\n",
       "      <td>73911.0</td>\n",
       "      <td>222.0</td>\n",
       "      <td>260.0</td>\n",
       "      <td>201.0</td>\n",
       "      <td>242.0</td>\n",
       "      <td>29.348515</td>\n",
       "    </tr>\n",
       "    <tr>\n",
       "      <th>1001</th>\n",
       "      <td>2011_NEW_YORK</td>\n",
       "      <td>NEW_YORK</td>\n",
       "      <td>2011</td>\n",
       "      <td>2677412.0</td>\n",
       "      <td>57753776.0</td>\n",
       "      <td>5118477.0</td>\n",
       "      <td>23188002.0</td>\n",
       "      <td>29447297.0</td>\n",
       "      <td>59446908.0</td>\n",
       "      <td>37834196.0</td>\n",
       "      <td>...</td>\n",
       "      <td>201190.0</td>\n",
       "      <td>190732.0</td>\n",
       "      <td>1595807.0</td>\n",
       "      <td>831712.0</td>\n",
       "      <td>2704718.0</td>\n",
       "      <td>238.0</td>\n",
       "      <td>280.0</td>\n",
       "      <td>222.0</td>\n",
       "      <td>266.0</td>\n",
       "      <td>22.203123</td>\n",
       "    </tr>\n",
       "    <tr>\n",
       "      <th>1014</th>\n",
       "      <td>2011_VERMONT</td>\n",
       "      <td>VERMONT</td>\n",
       "      <td>2011</td>\n",
       "      <td>86982.0</td>\n",
       "      <td>1686499.0</td>\n",
       "      <td>106823.0</td>\n",
       "      <td>1329172.0</td>\n",
       "      <td>250504.0</td>\n",
       "      <td>1722515.0</td>\n",
       "      <td>888388.0</td>\n",
       "      <td>...</td>\n",
       "      <td>6646.0</td>\n",
       "      <td>6930.0</td>\n",
       "      <td>50525.0</td>\n",
       "      <td>27762.0</td>\n",
       "      <td>89908.0</td>\n",
       "      <td>247.0</td>\n",
       "      <td>294.0</td>\n",
       "      <td>227.0</td>\n",
       "      <td>274.0</td>\n",
       "      <td>19.803120</td>\n",
       "    </tr>\n",
       "    <tr>\n",
       "      <th>1072</th>\n",
       "      <td>2013_ALASKA</td>\n",
       "      <td>ALASKA</td>\n",
       "      <td>2013</td>\n",
       "      <td>131091.0</td>\n",
       "      <td>2545117.0</td>\n",
       "      <td>320938.0</td>\n",
       "      <td>1707449.0</td>\n",
       "      <td>516730.0</td>\n",
       "      <td>2665933.0</td>\n",
       "      <td>1324649.0</td>\n",
       "      <td>...</td>\n",
       "      <td>9677.0</td>\n",
       "      <td>9500.0</td>\n",
       "      <td>78835.0</td>\n",
       "      <td>38230.0</td>\n",
       "      <td>130944.0</td>\n",
       "      <td>236.0</td>\n",
       "      <td>282.0</td>\n",
       "      <td>209.0</td>\n",
       "      <td>261.0</td>\n",
       "      <td>20.336507</td>\n",
       "    </tr>\n",
       "    <tr>\n",
       "      <th>1079</th>\n",
       "      <td>2013_DISTRICT_OF_COLUMBIA</td>\n",
       "      <td>DISTRICT_OF_COLUMBIA</td>\n",
       "      <td>2013</td>\n",
       "      <td>44179.0</td>\n",
       "      <td>1300036.0</td>\n",
       "      <td>129874.0</td>\n",
       "      <td>0.0</td>\n",
       "      <td>1170162.0</td>\n",
       "      <td>1308438.0</td>\n",
       "      <td>559940.0</td>\n",
       "      <td>...</td>\n",
       "      <td>4425.0</td>\n",
       "      <td>3326.0</td>\n",
       "      <td>41239.0</td>\n",
       "      <td>17717.0</td>\n",
       "      <td>78153.0</td>\n",
       "      <td>229.0</td>\n",
       "      <td>265.0</td>\n",
       "      <td>206.0</td>\n",
       "      <td>248.0</td>\n",
       "      <td>29.616741</td>\n",
       "    </tr>\n",
       "    <tr>\n",
       "      <th>1101</th>\n",
       "      <td>2013_NEW_JERSEY</td>\n",
       "      <td>NEW_JERSEY</td>\n",
       "      <td>2013</td>\n",
       "      <td>1338657.0</td>\n",
       "      <td>28070096.0</td>\n",
       "      <td>1145079.0</td>\n",
       "      <td>10986132.0</td>\n",
       "      <td>15938885.0</td>\n",
       "      <td>28179900.0</td>\n",
       "      <td>15489942.0</td>\n",
       "      <td>...</td>\n",
       "      <td>99950.0</td>\n",
       "      <td>95646.0</td>\n",
       "      <td>792008.0</td>\n",
       "      <td>399391.0</td>\n",
       "      <td>1370295.0</td>\n",
       "      <td>247.0</td>\n",
       "      <td>296.0</td>\n",
       "      <td>229.0</td>\n",
       "      <td>276.0</td>\n",
       "      <td>21.050874</td>\n",
       "    </tr>\n",
       "    <tr>\n",
       "      <th>1103</th>\n",
       "      <td>2013_NEW_YORK</td>\n",
       "      <td>NEW_YORK</td>\n",
       "      <td>2013</td>\n",
       "      <td>2629805.0</td>\n",
       "      <td>59623918.0</td>\n",
       "      <td>3335657.0</td>\n",
       "      <td>23632698.0</td>\n",
       "      <td>32655563.0</td>\n",
       "      <td>60505950.0</td>\n",
       "      <td>38756656.0</td>\n",
       "      <td>...</td>\n",
       "      <td>203267.0</td>\n",
       "      <td>190081.0</td>\n",
       "      <td>1607001.0</td>\n",
       "      <td>820326.0</td>\n",
       "      <td>2732770.0</td>\n",
       "      <td>240.0</td>\n",
       "      <td>282.0</td>\n",
       "      <td>224.0</td>\n",
       "      <td>266.0</td>\n",
       "      <td>23.007771</td>\n",
       "    </tr>\n",
       "    <tr>\n",
       "      <th>1116</th>\n",
       "      <td>2013_VERMONT</td>\n",
       "      <td>VERMONT</td>\n",
       "      <td>2013</td>\n",
       "      <td>89200.0</td>\n",
       "      <td>1817307.0</td>\n",
       "      <td>114697.0</td>\n",
       "      <td>1431621.0</td>\n",
       "      <td>270989.0</td>\n",
       "      <td>1809138.0</td>\n",
       "      <td>935593.0</td>\n",
       "      <td>...</td>\n",
       "      <td>6332.0</td>\n",
       "      <td>6545.0</td>\n",
       "      <td>49575.0</td>\n",
       "      <td>27233.0</td>\n",
       "      <td>88690.0</td>\n",
       "      <td>248.0</td>\n",
       "      <td>295.0</td>\n",
       "      <td>228.0</td>\n",
       "      <td>274.0</td>\n",
       "      <td>20.281816</td>\n",
       "    </tr>\n",
       "    <tr>\n",
       "      <th>1174</th>\n",
       "      <td>2015_ALASKA</td>\n",
       "      <td>ALASKA</td>\n",
       "      <td>2015</td>\n",
       "      <td>130755.0</td>\n",
       "      <td>2920986.0</td>\n",
       "      <td>344111.0</td>\n",
       "      <td>2026555.0</td>\n",
       "      <td>550320.0</td>\n",
       "      <td>2968341.0</td>\n",
       "      <td>1484610.0</td>\n",
       "      <td>...</td>\n",
       "      <td>9400.0</td>\n",
       "      <td>9651.0</td>\n",
       "      <td>80011.0</td>\n",
       "      <td>38688.0</td>\n",
       "      <td>132477.0</td>\n",
       "      <td>236.0</td>\n",
       "      <td>280.0</td>\n",
       "      <td>213.0</td>\n",
       "      <td>260.0</td>\n",
       "      <td>22.701549</td>\n",
       "    </tr>\n",
       "    <tr>\n",
       "      <th>1179</th>\n",
       "      <td>2015_CONNECTICUT</td>\n",
       "      <td>CONNECTICUT</td>\n",
       "      <td>2015</td>\n",
       "      <td>505366.0</td>\n",
       "      <td>11099837.0</td>\n",
       "      <td>444073.0</td>\n",
       "      <td>4353546.0</td>\n",
       "      <td>6302218.0</td>\n",
       "      <td>10542667.0</td>\n",
       "      <td>6006275.0</td>\n",
       "      <td>...</td>\n",
       "      <td>40320.0</td>\n",
       "      <td>40321.0</td>\n",
       "      <td>315851.0</td>\n",
       "      <td>167056.0</td>\n",
       "      <td>537933.0</td>\n",
       "      <td>240.0</td>\n",
       "      <td>284.0</td>\n",
       "      <td>229.0</td>\n",
       "      <td>273.0</td>\n",
       "      <td>20.861449</td>\n",
       "    </tr>\n",
       "    <tr>\n",
       "      <th>1181</th>\n",
       "      <td>2015_DISTRICT_OF_COLUMBIA</td>\n",
       "      <td>DISTRICT_OF_COLUMBIA</td>\n",
       "      <td>2015</td>\n",
       "      <td>46155.0</td>\n",
       "      <td>1382282.0</td>\n",
       "      <td>146366.0</td>\n",
       "      <td>0.0</td>\n",
       "      <td>1235916.0</td>\n",
       "      <td>1360942.0</td>\n",
       "      <td>557345.0</td>\n",
       "      <td>...</td>\n",
       "      <td>4430.0</td>\n",
       "      <td>3867.0</td>\n",
       "      <td>44996.0</td>\n",
       "      <td>18884.0</td>\n",
       "      <td>84024.0</td>\n",
       "      <td>231.0</td>\n",
       "      <td>263.0</td>\n",
       "      <td>212.0</td>\n",
       "      <td>248.0</td>\n",
       "      <td>29.486340</td>\n",
       "    </tr>\n",
       "    <tr>\n",
       "      <th>1203</th>\n",
       "      <td>2015_NEW_JERSEY</td>\n",
       "      <td>NEW_JERSEY</td>\n",
       "      <td>2015</td>\n",
       "      <td>1339230.0</td>\n",
       "      <td>29335237.0</td>\n",
       "      <td>1154004.0</td>\n",
       "      <td>11423305.0</td>\n",
       "      <td>16757928.0</td>\n",
       "      <td>28809725.0</td>\n",
       "      <td>15339450.0</td>\n",
       "      <td>...</td>\n",
       "      <td>98128.0</td>\n",
       "      <td>97602.0</td>\n",
       "      <td>790025.0</td>\n",
       "      <td>402208.0</td>\n",
       "      <td>1408845.0</td>\n",
       "      <td>245.0</td>\n",
       "      <td>293.0</td>\n",
       "      <td>229.0</td>\n",
       "      <td>271.0</td>\n",
       "      <td>21.512156</td>\n",
       "    </tr>\n",
       "    <tr>\n",
       "      <th>1205</th>\n",
       "      <td>2015_NEW_YORK</td>\n",
       "      <td>NEW_YORK</td>\n",
       "      <td>2015</td>\n",
       "      <td>2631532.0</td>\n",
       "      <td>63712218.0</td>\n",
       "      <td>2869847.0</td>\n",
       "      <td>25900858.0</td>\n",
       "      <td>34941513.0</td>\n",
       "      <td>65094591.0</td>\n",
       "      <td>41954260.0</td>\n",
       "      <td>...</td>\n",
       "      <td>197997.0</td>\n",
       "      <td>189562.0</td>\n",
       "      <td>1601015.0</td>\n",
       "      <td>820402.0</td>\n",
       "      <td>2711626.0</td>\n",
       "      <td>237.0</td>\n",
       "      <td>280.0</td>\n",
       "      <td>223.0</td>\n",
       "      <td>263.0</td>\n",
       "      <td>24.736386</td>\n",
       "    </tr>\n",
       "    <tr>\n",
       "      <th>1218</th>\n",
       "      <td>2015_VERMONT</td>\n",
       "      <td>VERMONT</td>\n",
       "      <td>2015</td>\n",
       "      <td>85184.0</td>\n",
       "      <td>1996795.0</td>\n",
       "      <td>105333.0</td>\n",
       "      <td>1546600.0</td>\n",
       "      <td>344862.0</td>\n",
       "      <td>1969415.0</td>\n",
       "      <td>983532.0</td>\n",
       "      <td>...</td>\n",
       "      <td>6173.0</td>\n",
       "      <td>6271.0</td>\n",
       "      <td>48722.0</td>\n",
       "      <td>26002.0</td>\n",
       "      <td>87866.0</td>\n",
       "      <td>243.0</td>\n",
       "      <td>290.0</td>\n",
       "      <td>230.0</td>\n",
       "      <td>274.0</td>\n",
       "      <td>23.119541</td>\n",
       "    </tr>\n",
       "    <tr>\n",
       "      <th>1223</th>\n",
       "      <td>2015_WYOMING</td>\n",
       "      <td>WYOMING</td>\n",
       "      <td>2015</td>\n",
       "      <td>93867.0</td>\n",
       "      <td>1962874.0</td>\n",
       "      <td>120290.0</td>\n",
       "      <td>1116917.0</td>\n",
       "      <td>725667.0</td>\n",
       "      <td>1942406.0</td>\n",
       "      <td>895910.0</td>\n",
       "      <td>...</td>\n",
       "      <td>6902.0</td>\n",
       "      <td>6299.0</td>\n",
       "      <td>59453.0</td>\n",
       "      <td>26914.0</td>\n",
       "      <td>94717.0</td>\n",
       "      <td>247.0</td>\n",
       "      <td>287.0</td>\n",
       "      <td>228.0</td>\n",
       "      <td>269.0</td>\n",
       "      <td>20.693172</td>\n",
       "    </tr>\n",
       "  </tbody>\n",
       "</table>\n",
       "<p>21 rows × 26 columns</p>\n",
       "</div>"
      ],
      "text/plain": [
       "                    PRIMARY_KEY                 STATE  YEAR     ENROLL  \\\n",
       "569   2003_DISTRICT_OF_COLUMBIA  DISTRICT_OF_COLUMBIA  2003    67522.0   \n",
       "671   2005_DISTRICT_OF_COLUMBIA  DISTRICT_OF_COLUMBIA  2005    62306.0   \n",
       "773   2007_DISTRICT_OF_COLUMBIA  DISTRICT_OF_COLUMBIA  2007    56943.0   \n",
       "810                2007_VERMONT               VERMONT  2007    89329.0   \n",
       "875   2009_DISTRICT_OF_COLUMBIA  DISTRICT_OF_COLUMBIA  2009    44331.0   \n",
       "899               2009_NEW_YORK              NEW_YORK  2009  2696688.0   \n",
       "977   2011_DISTRICT_OF_COLUMBIA  DISTRICT_OF_COLUMBIA  2011    44199.0   \n",
       "1001              2011_NEW_YORK              NEW_YORK  2011  2677412.0   \n",
       "1014               2011_VERMONT               VERMONT  2011    86982.0   \n",
       "1072                2013_ALASKA                ALASKA  2013   131091.0   \n",
       "1079  2013_DISTRICT_OF_COLUMBIA  DISTRICT_OF_COLUMBIA  2013    44179.0   \n",
       "1101            2013_NEW_JERSEY            NEW_JERSEY  2013  1338657.0   \n",
       "1103              2013_NEW_YORK              NEW_YORK  2013  2629805.0   \n",
       "1116               2013_VERMONT               VERMONT  2013    89200.0   \n",
       "1174                2015_ALASKA                ALASKA  2015   130755.0   \n",
       "1179           2015_CONNECTICUT           CONNECTICUT  2015   505366.0   \n",
       "1181  2015_DISTRICT_OF_COLUMBIA  DISTRICT_OF_COLUMBIA  2015    46155.0   \n",
       "1203            2015_NEW_JERSEY            NEW_JERSEY  2015  1339230.0   \n",
       "1205              2015_NEW_YORK              NEW_YORK  2015  2631532.0   \n",
       "1218               2015_VERMONT               VERMONT  2015    85184.0   \n",
       "1223               2015_WYOMING               WYOMING  2015    93867.0   \n",
       "\n",
       "      TOTAL_REVENUE  FEDERAL_REVENUE  STATE_REVENUE  LOCAL_REVENUE  \\\n",
       "569       1114061.0         152599.0            0.0       961462.0   \n",
       "671       1109605.0         167922.0            0.0       941683.0   \n",
       "773       1148358.0         134700.0            0.0      1013658.0   \n",
       "810       1836316.0          97086.0      1237083.0       502147.0   \n",
       "875        801008.0          75856.0            0.0       725152.0   \n",
       "899      55885116.0        3197833.0     25768345.0     26918938.0   \n",
       "977       1283071.0         155505.0            0.0      1127566.0   \n",
       "1001     57753776.0        5118477.0     23188002.0     29447297.0   \n",
       "1014      1686499.0         106823.0      1329172.0       250504.0   \n",
       "1072      2545117.0         320938.0      1707449.0       516730.0   \n",
       "1079      1300036.0         129874.0            0.0      1170162.0   \n",
       "1101     28070096.0        1145079.0     10986132.0     15938885.0   \n",
       "1103     59623918.0        3335657.0     23632698.0     32655563.0   \n",
       "1116      1817307.0         114697.0      1431621.0       270989.0   \n",
       "1174      2920986.0         344111.0      2026555.0       550320.0   \n",
       "1179     11099837.0         444073.0      4353546.0      6302218.0   \n",
       "1181      1382282.0         146366.0            0.0      1235916.0   \n",
       "1203     29335237.0        1154004.0     11423305.0     16757928.0   \n",
       "1205     63712218.0        2869847.0     25900858.0     34941513.0   \n",
       "1218      1996795.0         105333.0      1546600.0       344862.0   \n",
       "1223      1962874.0         120290.0      1116917.0       725667.0   \n",
       "\n",
       "      TOTAL_EXPENDITURE  INSTRUCTION_EXPENDITURE  ...  GRADES_8_G  \\\n",
       "569           1105963.0                 473414.0  ...      5158.0   \n",
       "671           1085658.0                 459063.0  ...      5196.0   \n",
       "773           1140506.0                 491992.0  ...      5182.0   \n",
       "810           1804519.0                 800453.0  ...      7039.0   \n",
       "875            805362.0                 330698.0  ...      4452.0   \n",
       "899          57851481.0               35195372.0  ...    198690.0   \n",
       "977           1297175.0                 525185.0  ...      4328.0   \n",
       "1001         59446908.0               37834196.0  ...    201190.0   \n",
       "1014          1722515.0                 888388.0  ...      6646.0   \n",
       "1072          2665933.0                1324649.0  ...      9677.0   \n",
       "1079          1308438.0                 559940.0  ...      4425.0   \n",
       "1101         28179900.0               15489942.0  ...     99950.0   \n",
       "1103         60505950.0               38756656.0  ...    203267.0   \n",
       "1116          1809138.0                 935593.0  ...      6332.0   \n",
       "1174          2968341.0                1484610.0  ...      9400.0   \n",
       "1179         10542667.0                6006275.0  ...     40320.0   \n",
       "1181          1360942.0                 557345.0  ...      4430.0   \n",
       "1203         28809725.0               15339450.0  ...     98128.0   \n",
       "1205         65094591.0               41954260.0  ...    197997.0   \n",
       "1218          1969415.0                 983532.0  ...      6173.0   \n",
       "1223          1942406.0                 895910.0  ...      6902.0   \n",
       "\n",
       "      GRADES_12_G  GRADES_1_8_G  GRADES_9_12_G  GRADES_ALL_G  \\\n",
       "569        2971.0       45706.0        16828.0       78057.0   \n",
       "671        3177.0       41142.0        18769.0       76876.0   \n",
       "773        4002.0       40295.0        20242.0       78422.0   \n",
       "810        7714.0       52379.0        30942.0       94038.0   \n",
       "875        3301.0       37698.0        17597.0       69433.0   \n",
       "899      188377.0     1550122.0       858087.0     2766052.0   \n",
       "977        3190.0       38259.0        17261.0       73911.0   \n",
       "1001     190732.0     1595807.0       831712.0     2704718.0   \n",
       "1014       6930.0       50525.0        27762.0       89908.0   \n",
       "1072       9500.0       78835.0        38230.0      130944.0   \n",
       "1079       3326.0       41239.0        17717.0       78153.0   \n",
       "1101      95646.0      792008.0       399391.0     1370295.0   \n",
       "1103     190081.0     1607001.0       820326.0     2732770.0   \n",
       "1116       6545.0       49575.0        27233.0       88690.0   \n",
       "1174       9651.0       80011.0        38688.0      132477.0   \n",
       "1179      40321.0      315851.0       167056.0      537933.0   \n",
       "1181       3867.0       44996.0        18884.0       84024.0   \n",
       "1203      97602.0      790025.0       402208.0     1408845.0   \n",
       "1205     189562.0     1601015.0       820402.0     2711626.0   \n",
       "1218       6271.0       48722.0        26002.0       87866.0   \n",
       "1223       6299.0       59453.0        26914.0       94717.0   \n",
       "\n",
       "      AVG_MATH_4_SCORE  AVG_MATH_8_SCORE  AVG_READING_4_SCORE  \\\n",
       "569              205.0             243.0                188.0   \n",
       "671              211.0             245.0                191.0   \n",
       "773              214.0             248.0                197.0   \n",
       "810              246.0             291.0                228.0   \n",
       "875              219.0             254.0                202.0   \n",
       "899              241.0             283.0                224.0   \n",
       "977              222.0             260.0                201.0   \n",
       "1001             238.0             280.0                222.0   \n",
       "1014             247.0             294.0                227.0   \n",
       "1072             236.0             282.0                209.0   \n",
       "1079             229.0             265.0                206.0   \n",
       "1101             247.0             296.0                229.0   \n",
       "1103             240.0             282.0                224.0   \n",
       "1116             248.0             295.0                228.0   \n",
       "1174             236.0             280.0                213.0   \n",
       "1179             240.0             284.0                229.0   \n",
       "1181             231.0             263.0                212.0   \n",
       "1203             245.0             293.0                229.0   \n",
       "1205             237.0             280.0                223.0   \n",
       "1218             243.0             290.0                230.0   \n",
       "1223             247.0             287.0                228.0   \n",
       "\n",
       "      AVG_READING_8_SCORE  STUDENT_COST  \n",
       "569                 239.0     16.379299  \n",
       "671                 238.0     17.424614  \n",
       "773                 241.0     20.028906  \n",
       "810                 273.0     20.200819  \n",
       "875                 242.0     18.167016  \n",
       "899                 264.0     21.452790  \n",
       "977                 242.0     29.348515  \n",
       "1001                266.0     22.203123  \n",
       "1014                274.0     19.803120  \n",
       "1072                261.0     20.336507  \n",
       "1079                248.0     29.616741  \n",
       "1101                276.0     21.050874  \n",
       "1103                266.0     23.007771  \n",
       "1116                274.0     20.281816  \n",
       "1174                260.0     22.701549  \n",
       "1179                273.0     20.861449  \n",
       "1181                248.0     29.486340  \n",
       "1203                271.0     21.512156  \n",
       "1205                263.0     24.736386  \n",
       "1218                274.0     23.119541  \n",
       "1223                269.0     20.693172  \n",
       "\n",
       "[21 rows x 26 columns]"
      ]
     },
     "execution_count": 21,
     "metadata": {},
     "output_type": "execute_result"
    },
    {
     "data": {
      "image/png": "[encoded data removed]",
      "text/plain": [
       "<Figure size 432x288 with 1 Axes>"
      ]
     },
     "metadata": {
      "needs_background": "light"
     },
     "output_type": "display_data"
    }
   ],
   "source": [
    "df.plot.scatter(x = 'STUDENT_COST', y = 'AVG_MATH_8_SCORE')\n",
    "df[df['AVG_MATH_8_SCORE'] / df['STUDENT_COST'] < 15]"
   ]
  },
  {
   "cell_type": "markdown",
   "metadata": {},
   "source": [
    "It looks like the culprits with high spending and relatively low results don't include Alaska as often as I had guessed. In addition to Alaska, Wyoming and Vermont, two other extremely rural states, appear on the list. DC, NJ, and NY are all extremely urban. So it seems that the states which get the least return on investment for 8th grade math are either extremely rural or extremely urban. Perhaps factors for this include the long distance of busing or low supply of teachers in rural states and high cost of living in urban states. Further research is needed."
   ]
  }
 ],
 "metadata": {
  "kernelspec": {
   "display_name": "Python 3 (ipykernel)",
   "language": "python",
   "name": "python3"
  },
  "language_info": {
   "codemirror_mode": {
    "name": "ipython",
    "version": 3
   },
   "file_extension": ".py",
   "mimetype": "text/x-python",
   "name": "python",
   "nbconvert_exporter": "python",
   "pygments_lexer": "ipython3",
   "version": "3.8.10"
  }
 },
 "nbformat": 4,
 "nbformat_minor": 4
}
